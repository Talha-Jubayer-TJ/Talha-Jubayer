{
 "cells": [
  {
   "cell_type": "markdown",
   "metadata": {},
   "source": [
    "#1. Write a program that uses a while loop (not a for loop) to read through a string and print the characters of the string one-by-one on separate lines."
   ]
  },
  {
   "cell_type": "code",
   "execution_count": 1,
   "metadata": {},
   "outputs": [
    {
     "name": "stdout",
     "output_type": "stream",
     "text": [
      "Enter a string: Talha\n",
      "T\n",
      "\n",
      "a\n",
      "\n",
      "l\n",
      "\n",
      "h\n",
      "\n",
      "a\n",
      "\n"
     ]
    }
   ],
   "source": [
    "string = input(\"Enter a string: \")\n",
    "i = 0\n",
    "while(i < len(string)):\n",
    "    print(\"{}\\n\".format(string[i]))\n",
    "    i+=1\n"
   ]
  },
  {
   "cell_type": "markdown",
   "metadata": {},
   "source": [
    "#2. Modify the program above to print out every second character of the string."
   ]
  },
  {
   "cell_type": "code",
   "execution_count": 2,
   "metadata": {},
   "outputs": [
    {
     "name": "stdout",
     "output_type": "stream",
     "text": [
      "Enter a string: Talha\n",
      "a\n",
      "\n",
      "h\n",
      "\n"
     ]
    }
   ],
   "source": [
    "string = input(\"Enter a string: \")\n",
    "i = 0\n",
    "while(i < len(string)):\n",
    "    if (i+1) % 2 == 0:\n",
    "        print(\"{}\\n\".format(string[i]))\n",
    "    i+=1\n"
   ]
  },
  {
   "cell_type": "markdown",
   "metadata": {},
   "source": [
    "#3. Write a program that asks the user to enter a password. If the user enters the right password, the program should tell them they are logged in to the system. Otherwise, the program should ask them to reenter the password. The user should only get five tries to enter the password, after which point the program should tell them that they are kicked off of the system.\n",
    "\n"
   ]
  },
  {
   "cell_type": "code",
   "execution_count": 1,
   "metadata": {},
   "outputs": [
    {
     "name": "stdout",
     "output_type": "stream",
     "text": [
      "Enter a password: 1245687\n",
      "You have 4 tries left\n",
      "Re-enter your password: 98765431\n",
      "You have 3 tries left\n",
      "Re-enter your password: asadfghh\n",
      "You have 2 tries left\n",
      "Re-enter your password: Talha1234\n",
      "You are logged in\n"
     ]
    }
   ],
   "source": [
    "password = \"Talha1234\"\n",
    "for guess in range(7):\n",
    "    if guess == 0:\n",
    "        string = input(\"Enter a password: \")\n",
    "    else:\n",
    "        string = input(\"Re-enter your password: \")\n",
    "    if string == password:\n",
    "        print(\"You are logged in\")\n",
    "        break\n",
    "    else:\n",
    "        if 4 - guess >= 0:\n",
    "            print(\"You have {} tries left\".format(4-guess))\n",
    "if guess == 4:\n",
    "    print(\"You have been kicked out of the system\")\n"
   ]
  },
  {
   "cell_type": "markdown",
   "metadata": {},
   "source": [
    "Question 4.Recall that, given a string s , s.index( ' x ' ) returns the index of the first x in s and an error if there is no x.\n",
    "\n",
    "(a) Write a program that asks the user for a string and a letter. Using a while loop, the program should print the index of the first occurrence of that letter and a message if the string does not contain the letter.\n",
    "\n",
    "(b) Write the above program using a for/break loop instead of a while loop."
   ]
  },
  {
   "cell_type": "code",
   "execution_count": 2,
   "metadata": {},
   "outputs": [
    {
     "name": "stdout",
     "output_type": "stream",
     "text": [
      "Enter a String TALHA\n",
      "Enter a Letter H\n",
      "First occurance of H is in the position 4\n"
     ]
    }
   ],
   "source": [
    "string=input('Enter a String ')\n",
    "letter=input('Enter a Letter ')\n",
    "i=0\n",
    "j=0 \n",
    "\n",
    "while i<len(string) and j!=1:\n",
    "    if string[i]==letter:\n",
    "        j=1\n",
    "        index=i\n",
    "    i=i+1\n",
    "\n",
    "if j==1:\n",
    "    print('First occurance of',letter,'is in the position',index+1)\n",
    "else:\n",
    "    print('No match for',letter)"
   ]
  },
  {
   "cell_type": "code",
   "execution_count": 3,
   "metadata": {},
   "outputs": [
    {
     "name": "stdout",
     "output_type": "stream",
     "text": [
      "Enter a String Talha\n",
      "Enter a Letter l\n",
      "First occurance of l is in the position 3\n"
     ]
    }
   ],
   "source": [
    "string=input('Enter a String ')\n",
    "letter=input('Enter a Letter ')\n",
    "i=0\n",
    "j=0 \n",
    "\n",
    "while i<len(string) and j!=1:\n",
    "    if string[i]==letter:\n",
    "        j=1\n",
    "        index=i\n",
    "    i=i+1\n",
    "\n",
    "if j==1:\n",
    "    print('First occurance of',letter,'is in the position',index+1)\n",
    "else:\n",
    "    print('No match for',letter)"
   ]
  },
  {
   "cell_type": "markdown",
   "metadata": {},
   "source": [
    "Question 5.The GCD (greatest common divisor) of two numbers is the largest number that both are di- visible by. For instance, gcd (18, 42) is 6 because the largest number that both 18 and 42 are divisible by is 6. Write a program that asks the user for two numbers and computes their gcd. Shown below is a way to compute the GCD, called Euclid’s Algorithm.\n",
    "\n",
    "• First compute the remainder of dividing the larger number by the smaller number\n",
    "\n",
    "• Next, replace the larger number with the smaller number and the smaller number with the remainder.\n",
    "\n",
    "• Repeat this process until the smaller number is 0. The GCD is the last value of the larger number."
   ]
  },
  {
   "cell_type": "code",
   "execution_count": 2,
   "metadata": {},
   "outputs": [
    {
     "name": "stdout",
     "output_type": "stream",
     "text": [
      "18\n",
      "42\n",
      "6\n"
     ]
    }
   ],
   "source": [
    "num1 =int(input())\n",
    "num2 =int(input())\n",
    "\n",
    "a = 1\n",
    "gcd = 0\n",
    "\n",
    "while a <= num1 and a <= num2:\n",
    "    if num1 % a == 0 and num2 % a == 0:\n",
    "        gcd = a\n",
    "    a+=1\n",
    "print(gcd)\n"
   ]
  },
  {
   "cell_type": "markdown",
   "metadata": {},
   "source": [
    "Question 6.A 4000-year old method to compute the square root of 5 is as follows: Start with an initial guess, say 1. Then compute\n",
    "\n",
    "(1 + 5/1 )/2 = 3\n",
    "\n",
    "Next, take that 3 and replace the 1’s in the previous formula with 3’s . This gives\n",
    "\n",
    "(3 + 5/3 )/2 = 7/3 = 2.33\n",
    "\n",
    "Next replace the 3 in the previous formula with 7/3 . This gives\n",
    "\n",
    "(7/3 + 5/(7/3) )/2 = 47/22 = 2.24\n",
    "\n",
    "If you keep doing this process of computing the formula, getting a result, and plugging it back in, the values will eventually get closer and closer to 5 . This method works for numbers other than 5. Write a program that asks the user for a number and uses this method to estimate the square root of the number correct to within 10^( −10) . The estimate will be correct to within 10^( −10) when the absolute value of the difference between consecutive values is less than 10^(−10) ."
   ]
  },
  {
   "cell_type": "code",
   "execution_count": 7,
   "metadata": {},
   "outputs": [
    {
     "name": "stdout",
     "output_type": "stream",
     "text": [
      "6\n",
      "2.45\n"
     ]
    }
   ],
   "source": [
    "num = int(input())\n",
    "i = 1\n",
    "while i >= 0:\n",
    "    x = i\n",
    "    i = (i + num/i)/2\n",
    "    if x == i:\n",
    "        break\n",
    "print(\"%.2f\"%i)\n"
   ]
  },
  {
   "cell_type": "markdown",
   "metadata": {},
   "source": [
    "#7. Write a program that starts with an 5 × 5 list of zeroes and randomly changes exactly ten of those zeroes to ones."
   ]
  },
  {
   "cell_type": "code",
   "execution_count": 4,
   "metadata": {},
   "outputs": [
    {
     "name": "stdout",
     "output_type": "stream",
     "text": [
      "0 0 0 0 1 \n",
      "0 0 0 1 0 \n",
      "0 0 1 0 0 \n",
      "0 1 0 0 0 \n",
      "1 0 0 1 0 \n"
     ]
    }
   ],
   "source": [
    "import random\n",
    "myList = []\n",
    "randomPosition = []\n",
    "for i in range(25):\n",
    "    myList.append(0)\n",
    "\n",
    "for i in range(10):\n",
    "    x = random.randrange(1, 25)\n",
    "    while randomPosition.count(x) != 0:\n",
    "        x = random.randrange(1, 25)\n",
    "    randomPosition.append(x)\n",
    "    myList[x] = 1\n",
    "k = 0\n",
    "for i in range (5):\n",
    "    for j in range(5):\n",
    "        if i+j == randomPosition[k]:\n",
    "            print(myList[k], end=\" \")\n",
    "            k+=1\n",
    "            continue\n",
    "        print(myList[i+j], end=\" \")\n",
    "    print()\n"
   ]
  },
  {
   "cell_type": "markdown",
   "metadata": {},
   "source": [
    "#8. Write a program in which you have a list that contains seven integers that can be 0 or 1. Find the first nonzero entry in the list and change it to a 1. If there are no nonzero entries, print a message saying so."
   ]
  },
  {
   "cell_type": "code",
   "execution_count": 4,
   "metadata": {},
   "outputs": [
    {
     "name": "stdout",
     "output_type": "stream",
     "text": [
      "Enter int contain 0 or 1 0\n",
      "Enter int contain 0 or 1 0\n",
      "Enter int contain 0 or 1 1\n",
      "Enter int contain 0 or 1 1\n",
      "Enter int contain 0 or 1 0\n",
      "Enter int contain 0 or 1 0\n",
      "Enter int contain 0 or 1 1\n",
      "Input List [0, 0, 1, 1, 0, 0, 1]\n",
      "Output List [0, 0, 1, 1, 0, 0, 1]\n"
     ]
    }
   ],
   "source": [
    "my_list=[0]*7 #creating List of seven intigers\n",
    "\n",
    "count=0\n",
    "while count<7:\n",
    "    my_list[count]=input('Enter int contain 0 or 1 ')\n",
    "    my_list[count]=int(my_list[count])\n",
    "    count=count+1\n",
    "print('Input List',my_list)\n",
    "\n",
    "count=0\n",
    "check=0\n",
    "while count<7 and check==0:\n",
    "    if my_list[count]!=0:\n",
    "        my_list[count]=1\n",
    "        check=1    #finding first non zero int\n",
    "    count=count+1\n",
    "\n",
    "if check==1:\n",
    "    print('Output List',my_list)\n",
    "else:\n",
    "    print('No Non Zero int in the List')"
   ]
  },
  {
   "cell_type": "markdown",
   "metadata": {},
   "source": [
    "#9. Write a program to play the following simple game. The player starts with 100.𝑂𝑛𝑒𝑎𝑐ℎ𝑡𝑢𝑟𝑛𝑎𝑐𝑜𝑖𝑛𝑖𝑠𝑓𝑙𝑖𝑝𝑝𝑒𝑑𝑎𝑛𝑑𝑡ℎ𝑒𝑝𝑙𝑎𝑦𝑒𝑟ℎ𝑎𝑠𝑡𝑜𝑔𝑢𝑒𝑠𝑠ℎ𝑒𝑎𝑑𝑠𝑜𝑟𝑡𝑎𝑖𝑙𝑠.𝑇ℎ𝑒𝑝𝑙𝑎𝑦𝑒𝑟𝑤𝑖𝑛𝑠9 for each correct guess and loses 10𝑓𝑜𝑟𝑒𝑎𝑐ℎ𝑖𝑛𝑐𝑜𝑟𝑟𝑒𝑐𝑡𝑔𝑢𝑒𝑠𝑠.𝑇ℎ𝑒𝑔𝑎𝑚𝑒𝑒𝑛𝑑𝑠𝑒𝑖𝑡ℎ𝑒𝑟𝑤ℎ𝑒𝑛𝑡ℎ𝑒𝑝𝑙𝑎𝑦𝑒𝑟𝑟𝑢𝑛𝑠𝑜𝑢𝑡𝑜𝑓𝑚𝑜𝑛𝑒𝑦𝑜𝑟𝑔𝑒𝑡𝑠𝑡𝑜200."
   ]
  },
  {
   "cell_type": "code",
   "execution_count": 5,
   "metadata": {},
   "outputs": [
    {
     "name": "stdout",
     "output_type": "stream",
     "text": [
      "Starts with $100 and wins when $200\n",
      "write \"h\" for head or \"t\" for tail h\n",
      "Right Guess!!! New Balance 109\n",
      "write \"h\" for head or \"t\" for tail t\n",
      "Wrong Guess... New Balance 99\n",
      "write \"h\" for head or \"t\" for tail h\n",
      "Right Guess!!! New Balance 108\n",
      "write \"h\" for head or \"t\" for tail h\n",
      "Wrong Guess... New Balance 98\n",
      "write \"h\" for head or \"t\" for tail t\n",
      "Right Guess!!! New Balance 107\n",
      "write \"h\" for head or \"t\" for tail h\n",
      "Right Guess!!! New Balance 116\n",
      "write \"h\" for head or \"t\" for tail t\n",
      "Wrong Guess... New Balance 106\n",
      "write \"h\" for head or \"t\" for tail h\n",
      "Right Guess!!! New Balance 115\n",
      "write \"h\" for head or \"t\" for tail t\n",
      "Right Guess!!! New Balance 124\n",
      "write \"h\" for head or \"t\" for tail h\n",
      "Right Guess!!! New Balance 133\n",
      "write \"h\" for head or \"t\" for tail t\n",
      "Right Guess!!! New Balance 142\n",
      "write \"h\" for head or \"t\" for tail h\n",
      "Right Guess!!! New Balance 151\n",
      "write \"h\" for head or \"t\" for tail t\n",
      "Wrong Guess... New Balance 141\n",
      "write \"h\" for head or \"t\" for tail h\n",
      "Right Guess!!! New Balance 150\n",
      "write \"h\" for head or \"t\" for tail t\n",
      "Right Guess!!! New Balance 159\n",
      "write \"h\" for head or \"t\" for tail h\n",
      "Wrong Guess... New Balance 149\n",
      "write \"h\" for head or \"t\" for tail t\n",
      "Right Guess!!! New Balance 158\n",
      "write \"h\" for head or \"t\" for tail h\n",
      "Wrong Guess... New Balance 148\n",
      "write \"h\" for head or \"t\" for tail h\n",
      "Wrong Guess... New Balance 138\n",
      "write \"h\" for head or \"t\" for tail t\n",
      "Right Guess!!! New Balance 147\n",
      "write \"h\" for head or \"t\" for tail h\n",
      "Wrong Guess... New Balance 137\n",
      "write \"h\" for head or \"t\" for tail t\n",
      "Right Guess!!! New Balance 146\n",
      "write \"h\" for head or \"t\" for tail h\n",
      "Wrong Guess... New Balance 136\n",
      "write \"h\" for head or \"t\" for tail t\n",
      "Right Guess!!! New Balance 145\n",
      "write \"h\" for head or \"t\" for tail h\n",
      "Wrong Guess... New Balance 135\n",
      "write \"h\" for head or \"t\" for tail t\n",
      "Wrong Guess... New Balance 125\n",
      "write \"h\" for head or \"t\" for tail h\n",
      "Wrong Guess... New Balance 115\n",
      "write \"h\" for head or \"t\" for tail t\n",
      "Right Guess!!! New Balance 124\n",
      "write \"h\" for head or \"t\" for tail ht\n",
      "write \"h\" for head or \"t\" for tail h\n",
      "Wrong Guess... New Balance 114\n",
      "write \"h\" for head or \"t\" for tail t\n",
      "Right Guess!!! New Balance 123\n",
      "write \"h\" for head or \"t\" for tail h\n",
      "Wrong Guess... New Balance 113\n",
      "write \"h\" for head or \"t\" for tail t\n",
      "Right Guess!!! New Balance 122\n",
      "write \"h\" for head or \"t\" for tail t\n",
      "Wrong Guess... New Balance 112\n",
      "write \"h\" for head or \"t\" for tail h\n",
      "Wrong Guess... New Balance 102\n",
      "write \"h\" for head or \"t\" for tail h\n",
      "Wrong Guess... New Balance 92\n",
      "write \"h\" for head or \"t\" for tail h\n",
      "Wrong Guess... New Balance 82\n",
      "write \"h\" for head or \"t\" for tail h\n",
      "Wrong Guess... New Balance 72\n",
      "write \"h\" for head or \"t\" for tail h\n",
      "Wrong Guess... New Balance 62\n",
      "write \"h\" for head or \"t\" for tail h\n",
      "Right Guess!!! New Balance 71\n",
      "write \"h\" for head or \"t\" for tail h\n",
      "Right Guess!!! New Balance 80\n",
      "write \"h\" for head or \"t\" for tail h\n",
      "Right Guess!!! New Balance 89\n",
      "write \"h\" for head or \"t\" for tail h\n",
      "Wrong Guess... New Balance 79\n",
      "write \"h\" for head or \"t\" for tail h\n",
      "Right Guess!!! New Balance 88\n",
      "write \"h\" for head or \"t\" for tail h\n",
      "Wrong Guess... New Balance 78\n",
      "write \"h\" for head or \"t\" for tail h\n",
      "Right Guess!!! New Balance 87\n",
      "write \"h\" for head or \"t\" for tail h\n",
      "Wrong Guess... New Balance 77\n",
      "write \"h\" for head or \"t\" for tail h\n",
      "Wrong Guess... New Balance 67\n",
      "write \"h\" for head or \"t\" for tail h\n",
      "Wrong Guess... New Balance 57\n",
      "write \"h\" for head or \"t\" for tail h\n",
      "Right Guess!!! New Balance 66\n",
      "write \"h\" for head or \"t\" for tail h\n",
      "Right Guess!!! New Balance 75\n",
      "write \"h\" for head or \"t\" for tail h\n",
      "Wrong Guess... New Balance 65\n",
      "write \"h\" for head or \"t\" for tail h\n",
      "Wrong Guess... New Balance 55\n",
      "write \"h\" for head or \"t\" for tail h\n",
      "Right Guess!!! New Balance 64\n",
      "write \"h\" for head or \"t\" for tail h\n",
      "Wrong Guess... New Balance 54\n",
      "write \"h\" for head or \"t\" for tail h\n",
      "Wrong Guess... New Balance 44\n",
      "write \"h\" for head or \"t\" for tail h\n",
      "Right Guess!!! New Balance 53\n",
      "write \"h\" for head or \"t\" for tail h\n",
      "Wrong Guess... New Balance 43\n",
      "write \"h\" for head or \"t\" for tail h\n",
      "Wrong Guess... New Balance 33\n",
      "write \"h\" for head or \"t\" for tail h\n",
      "Right Guess!!! New Balance 42\n",
      "write \"h\" for head or \"t\" for tail t\n",
      "Wrong Guess... New Balance 32\n",
      "write \"h\" for head or \"t\" for tail t\n",
      "Wrong Guess... New Balance 22\n",
      "write \"h\" for head or \"t\" for tail t\n",
      "Right Guess!!! New Balance 31\n",
      "write \"h\" for head or \"t\" for tail t\n",
      "Wrong Guess... New Balance 21\n",
      "write \"h\" for head or \"t\" for tail t\n",
      "Wrong Guess... New Balance 11\n",
      "write \"h\" for head or \"t\" for tail t\n",
      "Wrong Guess... New Balance 1\n",
      "write \"h\" for head or \"t\" for tail t\n",
      "Wrong Guess... New Balance -9\n",
      "Better Luck Next time...\n"
     ]
    }
   ],
   "source": [
    "balance=100 \n",
    "\n",
    "def Guess(ans,my_balance):\n",
    "    import random\n",
    "    z=random.randint(0,1)\n",
    "    if ans==z:\n",
    "        my_balance=my_balance+9\n",
    "        print('Right Guess!!! New Balance',my_balance)\n",
    "    else:\n",
    "        my_balance=my_balance-10\n",
    "        print('Wrong Guess... New Balance',my_balance)\n",
    "    return my_balance\n",
    "\n",
    "print('Starts with $100 and wins when $200')\n",
    "while balance>0 and balance<200:\n",
    "    s=input('write \"h\" for head or \"t\" for tail ')\n",
    "    if s=='h':\n",
    "        check=Guess(0,balance)  \n",
    "    elif s=='t':\n",
    "        check=Guess(1,balance) \n",
    "    balance=check\n",
    "\n",
    "if balance>=200:          \n",
    "    print('Congrats!!!')\n",
    "else:\n",
    "    print('Better Luck Next time...')"
   ]
  },
  {
   "cell_type": "markdown",
   "metadata": {},
   "source": [
    "#10. Randomly generate a 6 × 6 list that has exactly 12 ones placed in random locations in the list. The rest of the entries should be zeroes."
   ]
  },
  {
   "cell_type": "code",
   "execution_count": 8,
   "metadata": {},
   "outputs": [
    {
     "name": "stdout",
     "output_type": "stream",
     "text": [
      "List with 12 1\"s  [[0, 0, 0, 1, 1, 0], [0, 0, 1, 1, 1, 0], [0, 0, 0, 0, 0, 1], [0, 1, 1, 1, 0, 1], [1, 0, 0, 0, 0, 0], [0, 0, 1, 0, 0, 0]]\n"
     ]
    }
   ],
   "source": [
    "my_list= [[0,0,0,0,0,0], [0,0,0,0,0,0], [0,0,0,0,0,0], [0,0,0,0,0,0], [0,0,0,0,0,0], [0,0,0,0,0,0]]\n",
    "count=1\n",
    "\n",
    "while count<=12:\n",
    "    import random\n",
    "    z=random.randint(0,5)\n",
    "    y=random.randint(0,5)\n",
    "    if my_list[y][z]==0:\n",
    "        my_list[y][z]=1\n",
    "        count=count+1\n",
    "print('List with 12 1\"s ',my_list)"
   ]
  },
  {
   "cell_type": "markdown",
   "metadata": {},
   "source": [
    "#11. Randomly generate a 9 × 9 list where the entries are integers between 1 and 9 with no repeat entries in any row or in any column."
   ]
  },
  {
   "cell_type": "code",
   "execution_count": 10,
   "metadata": {},
   "outputs": [
    {
     "name": "stdout",
     "output_type": "stream",
     "text": [
      "9 4 2 7 8 6 3 1 5 \n",
      "6 3 9 5 8 4 1 2 7 \n",
      "8 6 7 3 5 4 1 9 2 \n",
      "7 1 6 4 3 5 9 8 2 \n",
      "2 1 6 5 7 4 9 8 3 \n",
      "4 7 2 1 6 3 5 8 9 \n",
      "5 4 8 9 7 1 3 6 2 \n",
      "1 2 3 5 8 7 9 6 4 \n",
      "2 7 6 4 3 8 5 9 1 \n"
     ]
    }
   ],
   "source": [
    "import random\n",
    "positions = []\n",
    "for x in range(9):\n",
    "    for y in range(9):\n",
    "        f = random.randrange(9)+1\n",
    "        while positions.count(f)!=0:\n",
    "            f = random.randrange(9)+1\n",
    "        positions.append(f)\n",
    "        print(f, end=\" \")\n",
    "    positions.clear()\n",
    "    print()\n",
    "\n"
   ]
  },
  {
   "cell_type": "markdown",
   "metadata": {},
   "source": [
    " Write a program that repeatedly asks the user to enter product names and prices. Store all of these in a dictionary whose keys are the product names and whose values are the prices. When the user is done entering products and prices, allow them to repeatedly enter a product name and print the corresponding price or a message if the product is not in the dictionary."
   ]
  },
  {
   "cell_type": "code",
   "execution_count": 24,
   "metadata": {},
   "outputs": [
    {
     "name": "stdout",
     "output_type": "stream",
     "text": [
      "Product name: pen\n",
      "Price: 5\n",
      "Product name: done\n",
      "What is the price of pen\n",
      "5\n"
     ]
    }
   ],
   "source": [
    "dict = {}\n",
    "\n",
    "while True:\n",
    "    x = input(\"Product name: \")\n",
    "    if x == \"done\":\n",
    "        break\n",
    "    y = input(\"Price: \")\n",
    "    dict[x] = y\n",
    "while True:\n",
    "    x = input(\"What is the price of \")\n",
    "    print(dict.get(x))\n",
    "    break\n"
   ]
  },
  {
   "cell_type": "markdown",
   "metadata": {},
   "source": [
    "#13. Using the dictionary created in the previous problem, allow the user to enter a dollar amount and print out all the products whose price is less than that amount."
   ]
  },
  {
   "cell_type": "code",
   "execution_count": 25,
   "metadata": {},
   "outputs": [
    {
     "name": "stdout",
     "output_type": "stream",
     "text": [
      "Product name: pen\n",
      "Price: 5\n",
      "Product name: ball\n",
      "Price: 50\n",
      "Product name: done\n",
      "Show products that cost less than 50\n",
      "pen\n"
     ]
    }
   ],
   "source": [
    "dict = {}\n",
    "\n",
    "while True:\n",
    "    x = input(\"Product name: \")\n",
    "    if x == \"done\":\n",
    "        break\n",
    "    y = int(input(\"Price: \"))\n",
    "    dict[x] = y\n",
    "\n",
    "y = int(input(\"Show products that cost less than \"))\n",
    "\n",
    "for x in dict:\n",
    "    if dict.get(x) < y:\n",
    "        print(x)\n"
   ]
  },
  {
   "cell_type": "markdown",
   "metadata": {},
   "source": [
    "#14. Write a program that uses a dictionary that contains ten user names and passwords. The program should ask the user to enter their username and password. If the username is not in the dictionary, the program should indicate that the person is not a valid user of the system. If the username is in the dictionary, but the user does not enter the right password, the program should say that the password is invalid. If the password is correct, then the program should tell the user that they are now logged in to the system."
   ]
  },
  {
   "cell_type": "code",
   "execution_count": null,
   "metadata": {},
   "outputs": [],
   "source": [
    "dict = {'Tohir' : '12345', 'Dhrooba':'45679', 'Rakib' : '457458'}\n",
    "\n",
    "x = input(\"User Name: \")\n",
    "y = input(\"Password: \")\n",
    "\n",
    "for z in dict:\n",
    "    if dict.has_key(z):\n",
    "        if dict.get(z) == y:\n",
    "            print(\"Password is correct\\nUser is now logged in to the system\")\n",
    "            y = -\"-1-1\"\n",
    "        else:\n",
    "            print(\"Password is invalid\")\n",
    "        break\n",
    "if y == \"-1-1\":\n",
    "    print(\"Username is not in the dictionary\")\n"
   ]
  },
  {
   "cell_type": "markdown",
   "metadata": {},
   "source": [
    "#17. Dictionaries provide a convenient way to store structured data. Here is an example dictionary:d=[{ ' name ' : ' Todd ' , ' phone ' : ' 555-1414 ' , ' email ' : ' todd@mail.net ' }, { ' name ' : ' Helga ' , ' phone ' : ' 555-1618 ' , ' email ' : ' helga@mail.net ' }, { ' name ' : ' Princess ' , ' phone ' : ' 555-3141 ' , ' email ' : '' }, { ' name ' : ' LJ ' , ' phone ' : ' 555-2718 ' , ' email ' : ' lj@mail.net ' }]Write a program that reads through any dictionary like this and prints the following:(a) All the users whose phone number ends in an 8(b) All the users that don’t have an email address listed.\n"
   ]
  },
  {
   "cell_type": "code",
   "execution_count": 29,
   "metadata": {},
   "outputs": [
    {
     "name": "stdout",
     "output_type": "stream",
     "text": [
      "Helga\n",
      "Princess\n"
     ]
    }
   ],
   "source": [
    "d = [{'name' : 'Todd', 'phone' : '555-1414', 'email' : 'todd@gmail.com'},{'name' : 'Helga', 'phone' : '555-1618', 'email' : 'helga@gmail.com'},{'name' : 'Princess', 'phone' : '555-2716', 'email' : ' '}]\n",
    "for x in d:\n",
    "    for y in x:\n",
    "        str = x.get('phone')\n",
    "        if str[len(str)-1] == '8':\n",
    "            print(x.get('name'))\n",
    "            break\n",
    "for x in d:\n",
    "    for y in x:\n",
    "        str = x.get('email')\n",
    "        if str[len(str)-1] == ' ':\n",
    "            print(x.get('name'))\n",
    "            break\n"
   ]
  },
  {
   "cell_type": "markdown",
   "metadata": {},
   "source": [
    "#18. The keys in a dictionary are guaranteed to be unique, but the values are not. Write a function called count_values that takes a single dictionary as an argument and returns the number of dis- tinct values it contains. Given the input {’red’:1, ’green’:1, ’blue’:2} , for example, it would return 2."
   ]
  },
  {
   "cell_type": "code",
   "execution_count": 37,
   "metadata": {
    "scrolled": true
   },
   "outputs": [
    {
     "name": "stdout",
     "output_type": "stream",
     "text": [
      "2\n"
     ]
    }
   ],
   "source": [
    "d = {'red' : '1', 'blue' : '1', 'green' : '2'}\n",
    "\n",
    "def count_values(**d):\n",
    "    myList = []\n",
    "    for x in d:\n",
    "        myList.append(d.get(x))\n",
    "    myList.sort()\n",
    "    y = 1\n",
    "    x = 0\n",
    "    while x < len(myList)-1:\n",
    "        if myList[x+1] != myList[x]:\n",
    "            y+=1\n",
    "        x+=1\n",
    "    print(y)\n",
    "\n",
    "count_values(**d)\n"
   ]
  }
 ],
 "metadata": {
  "kernelspec": {
   "display_name": "Python 3",
   "language": "python",
   "name": "python3"
  },
  "language_info": {
   "codemirror_mode": {
    "name": "ipython",
    "version": 3
   },
   "file_extension": ".py",
   "mimetype": "text/x-python",
   "name": "python",
   "nbconvert_exporter": "python",
   "pygments_lexer": "ipython3",
   "version": "3.7.2"
  }
 },
 "nbformat": 4,
 "nbformat_minor": 2
}
